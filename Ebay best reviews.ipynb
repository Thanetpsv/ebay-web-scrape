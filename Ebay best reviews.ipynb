{
 "cells": [
  {
   "cell_type": "code",
   "execution_count": 28,
   "metadata": {},
   "outputs": [],
   "source": [
    "from selenium import webdriver\n",
    "from selenium.webdriver.common.keys import Keys\n",
    "from selenium.webdriver.common.by import By\n",
    "from selenium.webdriver.support.ui import WebDriverWait\n",
    "from selenium.webdriver.support import expected_conditions as EC\n",
    "from bs4 import BeautifulSoup"
   ]
  },
  {
   "cell_type": "code",
   "execution_count": 38,
   "metadata": {},
   "outputs": [
    {
     "name": "stdout",
     "output_type": "stream",
     "text": [
      "Search your item: airpods\n"
     ]
    }
   ],
   "source": [
    "base_url = 'https://www.ebay.co.uk/sch/i.html?_odkw=macbook&_osacat=0&_from=R40&_trksid=p2045573.m570.l1313.TR12.TRC2.A0.H0.Xmacbook+pro.TRS0&_nkw='\n",
    "components = str(input('Search your item: ')).split()\n",
    "\n",
    "# Now let's build a function to that generate our desired url\n",
    "def make_url(base, comp):\n",
    "    url = base_url\n",
    "    \n",
    "    # add each component to the base url\n",
    "    for r in comp:\n",
    "        url = '{}+{}'.format(url, r)\n",
    "        \n",
    "    return url"
   ]
  },
  {
   "cell_type": "code",
   "execution_count": 83,
   "metadata": {},
   "outputs": [],
   "source": [
    "PATH = \"C:\\Program Files (x86)\\chromedriver.exe\"\n",
    "driver = webdriver.Chrome(PATH)\n",
    "driver.get(make_url(base_url, components))\n",
    "\n",
    "try:\n",
    "    main = WebDriverWait(driver, 10).until(\n",
    "        EC.presence_of_element_located((By.ID, \"srp-river-results\"))\n",
    "    )\n",
    "    html_doc = driver.page_source\n",
    "    soup = BeautifulSoup(html_doc,'lxml')\n",
    "finally:\n",
    "    driver.quit()"
   ]
  },
  {
   "cell_type": "code",
   "execution_count": 91,
   "metadata": {},
   "outputs": [
    {
     "name": "stdout",
     "output_type": "stream",
     "text": [
      "Title: Genuine Apple AirPods 2nd generation with Charging Case White Bluetooth 2019\n",
      "Total Reviews: 361\n",
      "Price: £134.99\n",
      "Link: https://www.ebay.co.uk/itm/Genuine-Apple-AirPods-2nd-generation-with-Charging-Case-White-Bluetooth-2019/283488038713?epid=14030715592&hash=item4201342f39:g:ec0AAOSw8ZhdNdzB\n",
      "\n"
     ]
    }
   ],
   "source": [
    "item = soup.find('div', class_='s-item__wrapper clearfix')\n",
    "try:\n",
    "    review_count = item.find('span', class_='s-item__reviews-count').text\n",
    "except:\n",
    "    pass\n",
    "\n",
    "review_list = []\n",
    "review_list_title = []\n",
    "title_list = []\n",
    "price_list = []\n",
    "link_list = []\n",
    "star_list = []\n",
    "for item in soup.find_all('div', class_='s-item__wrapper clearfix'):\n",
    "    \n",
    "    try:\n",
    "        review_count = item.find('span', class_='s-item__reviews-count').text\n",
    "        review_count_int = int(review_count.split()[0])\n",
    "        review_list.append(review_count_int)\n",
    "        \n",
    "    except:\n",
    "        pass\n",
    "        review_list.append(0)\n",
    "        index = review_list.index(max(review_list))\n",
    "    \n",
    "    title = item.h3.text\n",
    "    title_list.append(title)\n",
    "    \n",
    "    itemprice = item.find('span', class_='s-item__price').text\n",
    "    price_list.append(itemprice)\n",
    "    \n",
    "    link = item.find('div', class_='s-item__info clearfix').a['href']\n",
    "    link_list.append(link)\n",
    "    \n",
    "print(\"\"\"Title: {}\n",
    "Total Reviews: {}\n",
    "Price: {}\n",
    "Link: {}\n",
    "\"\"\".format(title_list[index] ,review_list[index], price_list[index], link_list[index]))"
   ]
  },
  {
   "cell_type": "code",
   "execution_count": null,
   "metadata": {},
   "outputs": [],
   "source": []
  }
 ],
 "metadata": {
  "kernelspec": {
   "display_name": "Python 3",
   "language": "python",
   "name": "python3"
  },
  "language_info": {
   "codemirror_mode": {
    "name": "ipython",
    "version": 3
   },
   "file_extension": ".py",
   "mimetype": "text/x-python",
   "name": "python",
   "nbconvert_exporter": "python",
   "pygments_lexer": "ipython3",
   "version": "3.8.2"
  }
 },
 "nbformat": 4,
 "nbformat_minor": 4
}
