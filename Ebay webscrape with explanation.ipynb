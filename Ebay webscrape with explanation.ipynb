{
 "cells": [
  {
   "cell_type": "markdown",
   "metadata": {},
   "source": [
    "This is a simple code that extract price, title and links upon providing key words to a search bar on Ebay"
   ]
  },
  {
   "cell_type": "code",
   "execution_count": 1,
   "metadata": {},
   "outputs": [],
   "source": [
    "#You only need two libraries\n",
    "import requests\n",
    "from bs4 import BeautifulSoup"
   ]
  },
  {
   "cell_type": "markdown",
   "metadata": {},
   "source": [
    "Notice that when you input words into the search bar, by changing the last bit of the url by the key words, it returns the page with our searched result. Therefore, by combining the base url and word components, we can generate a valid url."
   ]
  },
  {
   "cell_type": "code",
   "execution_count": 2,
   "metadata": {},
   "outputs": [],
   "source": [
    "#create the base url variable\n",
    "base_url = 'https://www.ebay.co.uk/sch/i.html?_odkw=macbook&_osacat=0&_from=R40&_trksid=p2045573.m570.l1313.TR12.TRC2.A0.H0.Xmacbook+pro.TRS0&_nkw='\n",
    "#create a list of components you want to search for, you can put as many words as you want\n",
    "components = ['macbook','air']"
   ]
  },
  {
   "cell_type": "code",
   "execution_count": 3,
   "metadata": {},
   "outputs": [
    {
     "name": "stdout",
     "output_type": "stream",
     "text": [
      "https://www.ebay.co.uk/sch/i.html?_odkw=macbook&_osacat=0&_from=R40&_trksid=p2045573.m570.l1313.TR12.TRC2.A0.H0.Xmacbook+pro.TRS0&_nkw=+macbook+air\n"
     ]
    }
   ],
   "source": [
    "# Now let's build a function to that generate our desired url\n",
    "def make_url(base, comp):\n",
    "    url = base_url\n",
    "    \n",
    "    # add each component to the base url\n",
    "    for r in comp:\n",
    "        url = '{}+{}'.format(url, r)\n",
    "        \n",
    "    return url\n",
    "print(make_url(base_url, components))"
   ]
  },
  {
   "cell_type": "markdown",
   "metadata": {},
   "source": [
    "Now we can see that we have generated a valid url. Next we will make use of \"requests\" and \"BeautifulSoup\" to fetch the contents inside the url we generated earlier"
   ]
  },
  {
   "cell_type": "code",
   "execution_count": 4,
   "metadata": {},
   "outputs": [],
   "source": [
    "source = requests.get(make_url(base_url, components))\n",
    "#using BeautifulSoup, we can extract the content of the requested page as a text by writing the following code\n",
    "soup = BeautifulSoup(source.content)"
   ]
  },
  {
   "cell_type": "markdown",
   "metadata": {},
   "source": [
    "for ebay page, the title and the link are under h3 class='lvtitle' as shown below"
   ]
  },
  {
   "cell_type": "code",
   "execution_count": 5,
   "metadata": {
    "scrolled": false
   },
   "outputs": [
    {
     "name": "stdout",
     "output_type": "stream",
     "text": [
      "<h3 class=\"lvtitle\"><a class=\"vip\" href=\"https://www.ebay.co.uk/itm/Apple-MacBook-Air-11-6-Core-i5-1-4GHz-4GB-RAM-128SSD-A-GRADE-12M-WARRANTY/182968362426?_trkparms=ispr%3D1&amp;hash=item2a99c3a5ba:g:gYAAAOSwat9emB8C&amp;enc=AQAEAAACYIQvEcHUrT7nmUC3yY5qbPyaBN1nJEDYW8MyypsJPgXKBE6azt8cGhqIvkcfFDcbk8Lh%2F4h38QjdbOX9wXkmjAaGvcV%2BFWWASH9WZZxe%2FaLIfBYDnY%2B%2FRUZycuZ9j6vnJQx%2FrJQmsTANX6KDnEUgTw3vrAVXFjSTVNuhZTqNT3b3CqzNlJ%2FNUl1jUPMmoGPKJl5CZJO%2FFB9N1qT4jQ45l62usrtXArCAdJtXp6NHhpqcEy9DLhg2ZyQ2nIo379v%2Fsvwb7OA4OZo9GZgT8h3J9Bv5lk2w6P%2BeLPiIi3%2BNf0NkarmsKBQ0l5caVoc%2BJG8EjMhsw9OWwta3K%2BG3S1a4prLPM5BEUA4EOq6yDg1%2F9fci7St2FnS3r7a8S0Mvd7lKmLTbWkUzr7yz4588%2F1j57VcTPILuLQj1sDCQX6Cw6HF9jex%2FbyUPt6EfSvAKGW%2Fd5PMK4jgbaOqmy91hNO%2B8s9unCLsW8J05u46Z79tNAwIlTUShh6o4%2BRYT1iULllxJ1TSOE2VVIalIMGL6AwtDIhe1WUbDTjCmlofIG9OjGVtyw4fOa%2Fvw%2B0A28hrLDz9GkxqMg1x92SIs%2FdDsIk2dIhhNwNxE%2B%2FNJR3Fg%2B6m%2BSeJtQTD1qLALlIACaCanBoL8b8G4u0chj1qYv4CnWZ%2FLVIRUi%2BBo3b3%2BqzHZjiaINeWW4Gde%2BxJk9bnsWSbkZAxNRmxVjV2et9gWtYmKw7JnEnD35yynGm%2Bqgj8MvXpFP45ofECRLbgSA9C6NLy23z6Mh8Z8j%2FIngHUaHGABQiNSnpiEJwchN8sPoAAMq31j2O1m&amp;checksum=1829683624269e7900cea5a4491e94f95fed13cea0ac\" title='Click this link to access Apple MacBook Air 11.6\" Core i5 1.4GHz - 4GB RAM - 128SSD, A GRADE, 12M WARRANTY'>Apple MacBook Air 11.6\" Core i5 1.4GHz - 4GB RAM - 128SSD, A GRADE, 12M WARRANTY</a>\n",
      "</h3>\n"
     ]
    }
   ],
   "source": [
    "item = soup.find('h3', class_='lvtitle')\n",
    "print(item)"
   ]
  },
  {
   "cell_type": "markdown",
   "metadata": {},
   "source": [
    "while the price is found in li, class='lvprice prc' as shown below"
   ]
  },
  {
   "cell_type": "code",
   "execution_count": 6,
   "metadata": {},
   "outputs": [
    {
     "name": "stdout",
     "output_type": "stream",
     "text": [
      "£399.99\n"
     ]
    }
   ],
   "source": [
    "itemprice = soup.find('li', class_='lvprice prc')\n",
    "#notice that I transform price into a string by adding \".text\" you may also you \".string\"\n",
    "#at the end of the text I also included [6:] to get rid of unecessary space. you can try to remove 6 and you will see\n",
    "price = itemprice.find('span', class_='bold').text[6:]\n",
    "print(price)"
   ]
  },
  {
   "cell_type": "markdown",
   "metadata": {},
   "source": [
    "This is how to get the title and the link"
   ]
  },
  {
   "cell_type": "code",
   "execution_count": 7,
   "metadata": {},
   "outputs": [
    {
     "name": "stdout",
     "output_type": "stream",
     "text": [
      "Apple MacBook Air 11.6\" Core i5 1.4GHz - 4GB RAM - 128SSD, A GRADE, 12M WARRANTY\n",
      "https://www.ebay.co.uk/itm/Apple-MacBook-Air-11-6-Core-i5-1-4GHz-4GB-RAM-128SSD-A-GRADE-12M-WARRANTY/182968362426?_trkparms=ispr%3D1&hash=item2a99c3a5ba:g:gYAAAOSwat9emB8C&enc=AQAEAAACYIQvEcHUrT7nmUC3yY5qbPyaBN1nJEDYW8MyypsJPgXKBE6azt8cGhqIvkcfFDcbk8Lh%2F4h38QjdbOX9wXkmjAaGvcV%2BFWWASH9WZZxe%2FaLIfBYDnY%2B%2FRUZycuZ9j6vnJQx%2FrJQmsTANX6KDnEUgTw3vrAVXFjSTVNuhZTqNT3b3CqzNlJ%2FNUl1jUPMmoGPKJl5CZJO%2FFB9N1qT4jQ45l62usrtXArCAdJtXp6NHhpqcEy9DLhg2ZyQ2nIo379v%2Fsvwb7OA4OZo9GZgT8h3J9Bv5lk2w6P%2BeLPiIi3%2BNf0NkarmsKBQ0l5caVoc%2BJG8EjMhsw9OWwta3K%2BG3S1a4prLPM5BEUA4EOq6yDg1%2F9fci7St2FnS3r7a8S0Mvd7lKmLTbWkUzr7yz4588%2F1j57VcTPILuLQj1sDCQX6Cw6HF9jex%2FbyUPt6EfSvAKGW%2Fd5PMK4jgbaOqmy91hNO%2B8s9unCLsW8J05u46Z79tNAwIlTUShh6o4%2BRYT1iULllxJ1TSOE2VVIalIMGL6AwtDIhe1WUbDTjCmlofIG9OjGVtyw4fOa%2Fvw%2B0A28hrLDz9GkxqMg1x92SIs%2FdDsIk2dIhhNwNxE%2B%2FNJR3Fg%2B6m%2BSeJtQTD1qLALlIACaCanBoL8b8G4u0chj1qYv4CnWZ%2FLVIRUi%2BBo3b3%2BqzHZjiaINeWW4Gde%2BxJk9bnsWSbkZAxNRmxVjV2et9gWtYmKw7JnEnD35yynGm%2Bqgj8MvXpFP45ofECRLbgSA9C6NLy23z6Mh8Z8j%2FIngHUaHGABQiNSnpiEJwchN8sPoAAMq31j2O1m&checksum=1829683624269e7900cea5a4491e94f95fed13cea0ac\n"
     ]
    }
   ],
   "source": [
    "#again I put [26:] to get rid of unecessary words\n",
    "title = item.a['title'][26:]\n",
    "print(title)\n",
    "link = item.a['href']\n",
    "print(link)"
   ]
  },
  {
   "cell_type": "markdown",
   "metadata": {},
   "source": [
    "After getting every information for the first item, we can iterate into each item as follows:"
   ]
  },
  {
   "cell_type": "code",
   "execution_count": 10,
   "metadata": {},
   "outputs": [
    {
     "name": "stdout",
     "output_type": "stream",
     "text": [
      "Product name : Apple MacBook Air 11.6\" Core i5 1.4GHz - 4GB RAM - 128SSD, A GRADE, 12M WARRANTY\n",
      "https://www.ebay.co.uk/itm/Apple-MacBook-Air-11-6-Core-i5-1-4GHz-4GB-RAM-128SSD-A-GRADE-12M-WARRANTY/182968362426?_trkparms=ispr%3D1&hash=item2a99c3a5ba:g:gYAAAOSwat9emB8C&enc=AQAEAAACYIQvEcHUrT7nmUC3yY5qbPyaBN1nJEDYW8MyypsJPgXKBE6azt8cGhqIvkcfFDcbk8Lh%2F4h38QjdbOX9wXkmjAaGvcV%2BFWWASH9WZZxe%2FaLIfBYDnY%2B%2FRUZycuZ9j6vnJQx%2FrJQmsTANX6KDnEUgTw3vrAVXFjSTVNuhZTqNT3b3CqzNlJ%2FNUl1jUPMmoGPKJl5CZJO%2FFB9N1qT4jQ45l62usrtXArCAdJtXp6NHhpqcEy9DLhg2ZyQ2nIo379v%2Fsvwb7OA4OZo9GZgT8h3J9Bv5lk2w6P%2BeLPiIi3%2BNf0NkarmsKBQ0l5caVoc%2BJG8EjMhsw9OWwta3K%2BG3S1a4prLPM5BEUA4EOq6yDg1%2F9fci7St2FnS3r7a8S0Mvd7lKmLTbWkUzr7yz4588%2F1j57VcTPILuLQj1sDCQX6Cw6HF9jex%2FbyUPt6EfSvAKGW%2Fd5PMK4jgbaOqmy91hNO%2B8s9unCLsW8J05u46Z79tNAwIlTUShh6o4%2BRYT1iULllxJ1TSOE2VVIalIMGL6AwtDIhe1WUbDTjCmlofIG9OjGVtyw4fOa%2Fvw%2B0A28hrLDz9GkxqMg1x92SIs%2FdDsIk2dIhhNwNxE%2B%2FNJR3Fg%2B6m%2BSeJtQTD1qLALlIACaCanBoL8b8G4u0chj1qYv4CnWZ%2FLVIRUi%2BBo3b3%2BqzHZjiaINeWW4Gde%2BxJk9bnsWSbkZAxNRmxVjV2et9gWtYmKw7JnEnD35yynGm%2Bqgj8MvXpFP45ofECRLbgSA9C6NLy23z6Mh8Z8j%2FIngHUaHGABQiNSnpiEJwchN8sPoAAMq31j2O1m&checksum=1829683624269e7900cea5a4491e94f95fed13cea0ac\n",
      "Price: \n",
      "\t\t\t\t\t£399\n",
      "-----------------------------------------------------------------------------------------------------------------------------\n",
      "Product name : Apple MacBook Air 13.3 Core i7 2.2Ghz 7th GEN 8GB 256GB (2017 Model) A Grade\n",
      "https://www.ebay.co.uk/itm/Apple-MacBook-Air-13-3-Core-i7-2-2Ghz-7th-GEN-8GB-256GB-2017-Model-A-Grade/183173713060?epid=238194704&_trkparms=ispr%3D1&hash=item2aa6010ca4:g:~sYAAOSwGy5Y8SW5&enc=AQAEAAACYIQvEcHUrT7nmUC3yY5qbPyaBN1nJEDYW8MyypsJPgXKBE6azt8cGhqIvkcfFDcbkxGi7D3iq9At3vgc1KvBQlrMee%2F4JCTlCRslAHCO0JdUx8LaAwDPPEKP4yYGVQejZgLZht6Pv%2FHtS7XonvnCZ9%2BKj02wsn43a5vCtBQeVIsMk8Ph0ieslP%2Fg5HlbxdKrLeGX%2F%2FboGzIOQe4H0nlOhJNcIB9anui7VNHWIv1FhU2lqNMxCdcvGbr%2F8n%2Fz0lvdh6G7jvBzKbMX1B5XHjEDFHwL2IFgJ62AAKSwU43%2B%2F%2F9lXrKZRzGZUH%2BSrKLjc8IjYTwkBai3%2FQ6fpum1pHzDFg3PE%2FsnGDSaFfo3vJ8WM7VwmtMC%2BLnQ%2BF9A9Tkg8%2BidDg%2BDP%2BP%2FznZS4PttzCFh6BGBGWzbEZ9fmIQfIAHsQYzDVqHZyIWxwt3bHbWh98xUFpUCtPJAsccjCkdoz%2F1RP2IYhIiDIAMZ4XNv8UaPGWnSHORp1HM8fDG1RhUPh9LdM%2FiakbTnOKT9zltmE3rOa9%2FspNY5LYM%2B55jnrMdHQfoQdjafpyYQLnM3gBSAQ66oDqjyGzLX%2B8UqLV4UUSilN2dQ%2BRoL4SL7Bv6%2B77DP1hnzfmXM5iWZNvWk0M%2BDTpc0CK5qxRZ%2FAcHPK3UkqfA35P1LEr1NFoew8penHxPZx3jS%2Fdz4SjMtyECgK51sVt6DmOS%2B5zFhF8Zbr%2B%2FpV9NrFadBPQDPL6ZwTd5dbV1Gs16OnuYhPf8O9LBs5tN%2FlelL04bdtIObL0T6l%2BhuA7iwcVBwG2IjGJNml%2BORVmEHjFzW&checksum=1831737130609e7900cea5a4491e94f95fed13cea0ac\n",
      "Price: \n",
      "\t\t\t\t\t£399\n",
      "-----------------------------------------------------------------------------------------------------------------------------\n",
      "Product name : Apple MacBook Air 11\" i5 1.6Ghz Laptop (March, 2015) 4GB 128GB A Grade Warranty\n",
      "https://www.ebay.co.uk/itm/Apple-MacBook-Air-11-i5-1-6Ghz-Laptop-March-2015-4GB-128GB-A-Grade-Warranty/352696607407?epid=214976902&_trkparms=ispr%3D1&hash=item521e5b22af:g:LAoAAOSwhh9c0aHn&enc=AQAEAAACYIQvEcHUrT7nmUC3yY5qbPyaBN1nJEDYW8MyypsJPgXKVSUO5rLpLbvuHeymugu80sQYG%2Fzp0YkgC%2FUd0fLyA2ySSm%2FG5bA0qmqJtRl278kCq4uoX0xNAxeFpp1cQla1YgiEDosxqV%2F%2F%2Fi3iiInlghOtkCQG5mX2POkv23Hs4MuKOl2hRBG%2F4AgYdqNAO%2B%2FM4A0dZobxSL7rAgbv9JAqWnAJCDNMR4DEBbGSy88Vb0Os42Mc6OxTar30L%2BeYlmNugbb3y2MJfX96%2FGYla7TkL%2BocKWbFE2jqmOu5qfvv7r88ndxrMIF2gwi5kKzsqm0Pjml1j9DnZ7FbAnHb6PiswIuxIAGsVBKaaLAt46c5v9111spaXCckUM8sptNCLpeLwsU9cJWsF70YzNjWhs67HJFmKdnFsmfUjLaLi217kb88G%2BZnxOp%2By1cVhVppZlHDZv58q7P4PPvwYuQSWqOZIsDsTulFacO6b17cBhg0iqufaHZPq5NLdusLzlldWsBPPVv202zxrsi059hmsDiWdKlRJDyVgpULkOmAXgsEWw%2B%2BtUdLXnMgBocgfJyeW701kUb33rSdn0lWtI2Y7G9xGnKt1SjS83eu9UmnVYiDhwP6rRMj5EqlmE6eB%2BixRKu%2Fs1Ap8t80FbQd%2BulVnszwHloHsFOTyJHG9XjCY9iEfud2Dp0IcTQ64aNsgVQqEEMIe8VHK5QGo1qsRsrk2%2BW6nFsrXzp9dGhFTkacVfWc0kkrcaFx27oWwPIIejnzLbPSGwzlwigTV%2BTnb3lZ8VTCr3mAI%2FMQv0y0ye42qmrGsgel&checksum=3526966074079e7900cea5a4491e94f95fed13cea0ac\n",
      "Price: \n",
      "\t\t\t\t\t£399\n",
      "-----------------------------------------------------------------------------------------------------------------------------\n",
      "Product name : Apple MacBook Air 11\" Core i5 1.6ghz 4GB 128GB (March 2015) A Grade Apple Boxed\n",
      "https://www.ebay.co.uk/itm/Apple-MacBook-Air-11-Core-i5-1-6ghz-4GB-128GB-March-2015-A-Grade-Apple-Boxed/182548058158?epid=214976902&_trkparms=ispr%3D1&hash=item2a80b6502e:g:ZHsAAOSwRDRePClv&enc=AQAEAAACYIQvEcHUrT7nmUC3yY5qbPyaBN1nJEDYW8MyypsJPgXKBE6azt8cGhqIvkcfFDcbk%2FQGaxFjIAaVl5nlu1jF7LlSjJamITUIm%2FxGzqLgxm2GvrvYKKhzyuzfWP2KIqVnOcP1sHrT2UQJrwomijRdc9PU51ddHvfhvEJbvTexStRArN83o408wjDm7TABlcg3dGQUUEXsXbJ3BdDs%2FcxnMGEClXkVLlM40a7WCLSytrW%2Fu1tfsYriFMLoWh0ovhwODBdwY3T%2ByR91Nmo%2F08ENJg0HM7d1XLhTODmt%2BDLXx4Z7wF0P4niP0XhQX4jeOGyZ5AWdFPmDrn24epjzbfosNPoud0GNk17i5Pt%2FtjTU70BDUfRElFnDE7yBGAwOXqCTxdxlJE56rFu8UjgJQtN2ZhCvfQr4dZjjO5dQ%2B47kcROT7O1C%2FY21Uy92OkWbetcgreXIvd0bJYzvUt16AXq3Q%2FsDzv1nSkiHBZVBkCDJFiQmuliRSQeSn1IZWybXzjyH3rpLgkTthib4jhxolsBbXDa1AIushPCv0t0l1%2BzR0ybuOYDs%2Bsl7Zdw3soXFnDuMcdb8ZHBTStvC7LFxve80ks%2B%2BK%2FpVcFHbKJEiA1wtv8ogb545t1eDpT3ld1RDLjtB%2Fu6e6pNWVeWOE0Lgi10zFStYdFx3PbbIsVcAwW4%2Fo7BTmRpVIVRIwZPufqrewQYfNKco8BPYGsqAlR2jwF4PaazsrnqT7FTSkwrt79xXzA%2BLJg8zd6%2B5Slk3IKO0HQu3ta6fLrlBO67ZLQL1oymzUY1m5e%2FsHUByIpYAgVo9ClPd&checksum=1825480581589e7900cea5a4491e94f95fed13cea0ac\n",
      "Price: \n",
      "\t\t\t\t\t£399\n",
      "-----------------------------------------------------------------------------------------------------------------------------\n",
      "Product name : Apple MacBook Air 11.6\" -1.4 Intel core i5  - 4GB RAM -128GB SSD A GRADE\n",
      "https://www.ebay.co.uk/itm/Apple-MacBook-Air-11-6-1-4-Intel-core-i5-4GB-RAM-128GB-SSD-A-GRADE/153838284452?epid=214976902&_trkparms=ispr%3D1&hash=item23d179eea4:g:CeQAAOSw9IdesVbk&enc=AQAEAAACYIQvEcHUrT7nmUC3yY5qbPyaBN1nJEDYW8MyypsJPgXKWvGWBPIgzGbX1fJ04aU6u5VZPZnV16JfwgUELtUDM6P3LSg%2FArQtDSd1PiWhsJH3kgnujF643moRa%2F7UFpR%2F6acvtkvD4%2B2ZSpI9N1x2U9lZZ5WcUPmBYADGnfw9hS%2FensK5XDMuAIg%2FtotTpR7qD5vbQN%2BF1H0Ntm1F2pYrN5RYfmtBmsQ7w91D%2FwUhzr%2FOI0al1k9CbAh7OgQ9n6Tbxb90qEazSYV6%2FegZjL%2F%2Fy1MNoJsqnDwtiRqTnnmcQXQXkwr9U0G%2FOGXfCHVNeP%2BQKnm%2FbkTSRNsPUcDwyE40f2dyzvw1qgwmK0vJkLUyIKnGi71Zgx9%2B1jWt4DIHv%2Ba36hov1Ef%2F9oK9nSDDdxHL%2Fw%2FsUHy12E2Dbx%2B2p7UFMNnPUPdXfgfemFhWX8JkWMwl%2FBU2zfjRmyFPxrS0ojf5s0KsZdSqa473hQJWdEPID8hrGhGWWjzlG3B66lOGJNKvUrfE6fkLNceVVh33yfH9LEOR508CTaQbSBH0Vkv%2BxhQ06jRNUs2aNHZn2fC2Iil1v9SsCwYWSSXTjGL0pCE7g5ki%2FWhjv6CIvncxFlsNBAKVB%2FVpWlKJlAp2%2BqSstyncWCsrQNf%2BfBDS8UCbBf4GxnQy2ja9Yhp%2B06iHPaX6l8nCNWSIJ8fFve%2FZRnWPhijeyA87G0ajYTZ8E0894s6PHnN5HnA%2B9kdxMDlolWY8voExoTVHbIP0Qb1hhpjHhrv6ugZGQvEBZcRSspo02gE6%2B7p0eZRlvJsqb6hAvkSDpdCK&checksum=1538382844529e7900cea5a4491e94f95fed13cea0ac\n",
      "Price: \n",
      "\t\t\t\t\t£399\n",
      "-----------------------------------------------------------------------------------------------------------------------------\n",
      "Product name : Apple 13-inch MacBook Air 128gb SSD - Silver\n",
      "https://www.ebay.co.uk/itm/Apple-13-inch-MacBook-Air-128gb-SSD-Silver/153931170143?epid=6004102110&hash=item23d703415f:g:brkAAOSwWHZevFGl\n",
      "Price: \n",
      "\t\t\t\t\t£399\n",
      "-----------------------------------------------------------------------------------------------------------------------------\n",
      "Product name : Apple MacBook Air 13.3\" (128 GB SSD, Intel Core i5 8th Gen., 3.60 GHz, 8GB)...\n",
      "https://www.ebay.co.uk/itm/Apple-MacBook-Air-13-3-128-GB-SSD-Intel-Core-i5-8th-Gen-3-60-GHz-8GB/184291333923?epid=11032811646&hash=item2ae89e9723:g:5ZMAAOSwTjZevAaI\n",
      "Price: \n",
      "\t\t\t\t\t£399\n",
      "-----------------------------------------------------------------------------------------------------------------------------\n",
      "Product name : Apple MacBook Air 13\" (Mid 2012) 1.8Ghz Intel i5 / 480gb SSD / 4gb RAM\n",
      "https://www.ebay.co.uk/itm/Apple-MacBook-Air-13-Mid-2012-1-8Ghz-Intel-i5-480gb-SSD-4gb-RAM/254596055488?hash=item3b471b81c0:g:TL0AAOSwfXJevEsq\n",
      "Price: \n",
      "\t\t\t\t\t£399\n",
      "-----------------------------------------------------------------------------------------------------------------------------\n",
      "Product name : Apple MacBook Air 13\" Core i5 1.6Ghz 4GB 128GB (March 2015) A Grade 12 M Waranty\n",
      "https://www.ebay.co.uk/itm/Apple-MacBook-Air-13-Core-i5-1-6Ghz-4GB-128GB-March-2015-A-Grade-12-M-Waranty/183495522379?epid=214971695&hash=item2ab92f784b:g:DXUAAOSw4CFYphWe\n",
      "Price: \n",
      "\t\t\t\t\t£399\n",
      "-----------------------------------------------------------------------------------------------------------------------------\n",
      "Product name : macbook air 13 inch Silver\n",
      "https://www.ebay.co.uk/itm/macbook-air-13-inch-Silver/124180580397?hash=item1ce9bd482d:g:pBkAAOSwXQpetaNW\n",
      "Price: \n",
      "\t\t\t\t\t£399\n",
      "-----------------------------------------------------------------------------------------------------------------------------\n",
      "Product name : Macbook Air 13\" 4GB RAM 128GB SSD with New Battery A1466\n",
      "https://www.ebay.co.uk/itm/Macbook-Air-13-4GB-RAM-128GB-SSD-with-New-Battery-A1466/133409200818?epid=219670683&hash=item1f0fcedab2:g:xHcAAOSwFxNeuvFM\n",
      "Price: \n",
      "\t\t\t\t\t£399\n",
      "-----------------------------------------------------------------------------------------------------------------------------\n",
      "Product name : Apple MacBook Air 13.3\" core i5 1.4GHz - 2GB RAM - 64 SSD (Good Condition)\n",
      "https://www.ebay.co.uk/itm/Apple-MacBook-Air-13-3-core-i5-1-4GHz-2GB-RAM-64-SSD-Good-Condition/183846818354?epid=115204609&hash=item2ace1fd232:g:oPUAAOSw5dhbzHcj\n",
      "Price: \n",
      "\t\t\t\t\t£399\n",
      "-----------------------------------------------------------------------------------------------------------------------------\n",
      "Product name : Apple MacBook Air A1466 13.3\" (Intel Core i5 5th Gen., 1.40 GHz , 128 GB) Laptop\n",
      "https://www.ebay.co.uk/itm/Apple-MacBook-Air-A1466-13-3-Intel-Core-i5-5th-Gen-1-40-GHz-128-GB-Laptop/193463285137?hash=item2d0b4f7591:g:tyEAAOSwn9Neu8vk\n",
      "Price: \n",
      "\t\t\t\t\t£399\n",
      "-----------------------------------------------------------------------------------------------------------------------------\n",
      "Product name : Apple MacBook Air 13\" i5 1.6Ghz Laptop (March,2015) 8GB 128GB A+ Grade Apple BOX\n",
      "https://www.ebay.co.uk/itm/Apple-MacBook-Air-13-i5-1-6Ghz-Laptop-March-2015-8GB-128GB-A-Grade-Apple-BOX/352913354288?hash=item522b466e30:g:wfwAAOSw3tddqLwy\n",
      "Price: \n",
      "\t\t\t\t\t£399\n",
      "-----------------------------------------------------------------------------------------------------------------------------\n",
      "Product name : Apple MacBook Air 13.3\" (2013), i5 - 4GB RAM,128 SSD 12M Warranty\n",
      "https://www.ebay.co.uk/itm/Apple-MacBook-Air-13-3-2013-i5-4GB-RAM-128-SSD-12M-Warranty/183930522082?epid=160137856&_trkparms=ispr%3D1&hash=item2ad31d09e2:g:oPUAAOSw5dhbzHcj&enc=AQAEAAACcIQvEcHUrT7nmUC3yY5qbPyaBN1nJEDYW8MyypsJPgXKBE6azt8cGhqIvkcfFDcbk8H45RB1ZP4lFTcMUNRlXnk9yatKiLLim3xutIwOEsZEgm1e%2BFmNtduW9TdBkEkZPgpG%2FRbznKohL1z7WA5NSpdqx4jTyn15XM6IG4SfzY5HQ7Yybns%2F0jP3AbaifoPBHda5G9jwF91k%2F45G%2B0lg5bMwP%2F%2BZUlC%2Bj79CBs0hQwyVtGA9bIFwHUlk7BZps1G0JDrOyogVOab1xIXI3vlUYhKRXV7Cr9Wcx0aQRBsfPU6gjyrdqG%2BfKWSUqBkuuXon%2Fu59W2FzBvP5yb29GdwobmpqQsjw1HqFKfbspaoj9r%2F%2BUWxaOz4wA9I%2BA0YoRPiesz1MAT1GpCkS7Sqez9yV6XTSUgtd2eNaH6lBygBJWqIu7GKbSard0e9fTwKlDk2HrcEYlNLszvBxCbhCoQOUM1wvMOcme49%2B9XtvlTOL97iC13fsLj3HmtCq8Ht9vis1c2dpdMzwTLXSVDJcmxDz5Q%2FroEFUnStAg96ngr%2FQ11y5AJ%2BS3F6p5yzb4cq7lCmd4ZjY%2BBxuBpN1WIa3ZajPxiC7GZf0sfoSQJ%2Ft82N6JJTmarLq0pKhniSd%2FMUQszuUF6kGCevgWrtW5x7GDy5opgF9cXnDxW7SFao8%2FpUAXr%2F29MP8Jck74PCIHFIudRwYFcE10fRIP9TPrgn%2B6FGDxKYeH7NYVkRmY3bqZKpATBUZKT9QDTE73%2FfblxBhfd1AeOZab67rWpTRLNyYZR5hVqEfcGVUJrJzWVYRxTZDgMVKISlfMcI0z%2FbD4GW9GU63og%3D%3D&checksum=1839305220829e7900cea5a4491e94f95fed13cea0ac\n",
      "Price: \n",
      "\t\t\t\t\t£399\n",
      "-----------------------------------------------------------------------------------------------------------------------------\n",
      "Product name : Apple MacBook Air 13.3\" (2015), i5 1.6GHz - 8GB RAM,128 SSD A GRADE\n",
      "https://www.ebay.co.uk/itm/Apple-MacBook-Air-13-3-2015-i5-1-6GHz-8GB-RAM-128-SSD-A-GRADE/183766406977?epid=219489466&_trkparms=ispr%3D1&hash=item2ac954d741:g:oPUAAOSw5dhbzHcj&enc=AQAEAAACcIQvEcHUrT7nmUC3yY5qbPyaBN1nJEDYW8MyypsJPgXKBE6azt8cGhqIvkcfFDcbk21i0wcdeRfDD96YKDH1HIKnZVB%2BW9mDSV1smc7CWMexguMBNMCFPShyVSMQIHJFE%2FXbtX%2BNLKGC5Y6onEJbXxwCJdTJvbzb%2F8AaGqkEw9FCkhaVjObYdKzSMC4EcXSebtVgX5XnY%2Bb4kRo%2FfimYLcQHKIi%2FpMSqkOdg3uDUR9jXmUacWOjTiC2QCT%2B2dS74qUJLx4wQTaTziFdWZnJCj2FDaOgpcTbKUWvrMS%2B3a2gj%2BcCEaEDBr%2FLlBT4gbAxHV0HS8xx4cdlW1qaHmoTfAR4FOz10kQl6V%2B3a5bwvoCO6hs1tHbmjWfAh3GjOrrBWJGYG9w237r1jOkXQwUGNbnzOEUDEhC8vhQXz8ZgDMwd9cWrUelt3YJPPS0Rbr%2F1axA3ZpZ0YWRD5cONZbfcgaBrXk3KswJg21N7Fbr%2FDbR6hukT%2FwN%2F4k04wqmv9rOyRD65%2FvJfAkOFfo7%2FifuR08vkVBEw94ubhROEq9Yttq2edoqVe2W3qakJNeIofoBZxdTbv8%2BLAKitpt5gw%2FJhQsJiPFQ%2FWGtFtdSY8PHsGBMDdpwYQ6DdOxUrrg%2BCeTh3D3GDtabE8Zvt9kqTNMY82prIT%2FpeKlMKEX6P6Z6svN7oAf%2Fm8Sz4yUPxhcOGXL7zyYpMmG8yoGoSS53V0Rx3kraTKzEvHy%2F56rYeapcnKKBjuhLmIL8ViKpYkXWqS4Yu6HVcWGI4UGCoJOZQX%2BLnh8oV%2Bnw%2B%2FmUg06hULFX244VkdXtgSmr%2BidvkK4PizHqnyDA%3D%3D&checksum=1837664069779e7900cea5a4491e94f95fed13cea0ac\n",
      "Price: \n",
      "\t\t\t\t\t£399\n",
      "-----------------------------------------------------------------------------------------------------------------------------\n",
      "Product name : Apple MacBook Air 13.3\" i5 1.6Ghz Laptop (March,2015) 4GB 128GB A Grade Warranty\n",
      "https://www.ebay.co.uk/itm/Apple-MacBook-Air-13-3-i5-1-6Ghz-Laptop-March-2015-4GB-128GB-A-Grade-Warranty/352709901240?epid=219489466&_trkparms=ispr%3D1&hash=item521f25fbb8:g:LAoAAOSwhh9c0aHn&enc=AQAEAAACYIQvEcHUrT7nmUC3yY5qbPyaBN1nJEDYW8MyypsJPgXKVSUO5rLpLbvuHeymugu80s7QQyPq0WzuqNjK48isHdgpk753yIyvV4SGm0shBzrGIfHhOW8pnXJZrbZq1g36DKGAgOaYpkFfaiVa65r76BoZU%2BE8NGH9wI224PN79KJHsvk%2BlrLTiI4x%2FXZ%2F7rpMpUt3faPlnWgVyCLTnTYucJMvHhkLWXnwHkqzRFkfmy60YxpBZDTtQB9hoPnRHW%2FsC9rN%2F5c%2FCsz5UqdCXI9ZzjXM8hahmAVHOEPng3RnHNI%2FKo1W3wzGp7KbuWW7EjIeyAD9MixVF5FzngkZbQVTClt%2FvmhQjElw4E5fAfPse1TzEFrkUCfaz1oQeQS15zR42kyPgzHcdAhJ3NBhVto1SiIHvAGN%2FjJ9rdDiWaVfrXEXor0R6O8FavpR4%2BlJp4ky1CS%2FP50UbXs2o9ZJq1DDHlYFlVJsJ11oUd98LbrrwEUVepxo7u68TX368hZwcXoH%2FvF1zDFhDEU80AoSgHb3iFRVAurrufzVhvTxuJpx9Y72d0cGhQE5fRxLJn8cyYTFj5B3GJGxRSlrHZKfGpJLx4W%2BrWLL%2BBe3FojrLM0HnqTLF81pexI8n%2Bww%2BfjlYQYIMtZNynMG1r7wC8Siueqm5QRfQ4kfRoY7JiaRiIytxKsSOXIeixbxGBl1%2B5%2FNNLT88F0AR5qqXua8NHSqGYu1lywC1WOkjhr45LaVRIIA1OgkMMnWcPHS2aRDeL%2Bs%2BSmX6bv7UkgOkdPFXZZB9yC4Fxfxo5sEvHkODrE0GlsTT4Wx&checksum=3527099012409e7900cea5a4491e94f95fed13cea0ac\n",
      "Price: \n",
      "\t\t\t\t\t£399\n",
      "-----------------------------------------------------------------------------------------------------------------------------\n",
      "Product name : Apple MacBook Air 13\" Core i5 1.4Ghz 4GB 128GB (March 2014) A Grade 12 M Waranty\n",
      "https://www.ebay.co.uk/itm/Apple-MacBook-Air-13-Core-i5-1-4Ghz-4GB-128GB-March-2014-A-Grade-12-M-Waranty/184230373254?epid=219531774&_trkparms=ispr%3D1&hash=item2ae4fc6786:g:DXUAAOSw4CFYphWe&enc=AQAEAAACYIQvEcHUrT7nmUC3yY5qbPyaBN1nJEDYW8MyypsJPgXKBE6azt8cGhqIvkcfFDcbk2FRAbyCefFJtgwCfXEUPH0bQ0gDhqfwj3RqCJaXbIdLMZN4%2FuSckG%2B%2FXYUoalAyNkQ5%2F50McK6vmg0UFx8CXN2eiCEo%2Bk8iaQK%2B%2FsALqD9itXzQ5Bt0KxUv3KE0FsYM6Cck03SCmROHaGV5ivUthaSF0fZ0AMTZU8qwiZO28HLfPY8vnVbo34Q3goTQtFCXOGtYFd%2Ftjmajpo0rFxK4%2BktOIo2jsTdjCivzEj7my%2BDcsCQ9QM4Jy0utiXsR3uu0wepNKf4woLGkXlFMk%2BkfROcpAvpvmWjv35qaMRStvVEdWD8%2BjnNX9Z83yub%2BAIXCqBaBqt2YA4fuq0HBmjdf2%2F%2Bcw8LxC%2Baq7eDzkQcYe22FRquMGglqI540%2FVigDJOUUUKoE4xP6r8lwFSd%2BmeoeCN87a62OdrDvtHk8gnOHlQ6vh78tSybXk1qR34W3e9XnCSastyk9Z376dFOYhRbvQd5koInWArdvVrADqSvFv%2F0aByLXe8ZEhQJk%2F48k2RW6HWVaZEx%2Fiz6sHWTKFrxC%2FHxDQM5zTyI5kykyEfL6QtQUAjat1dG9wxJUhqCKFGO%2Bb6UOOAv5S%2FaoTIBcVRvyWjKAB%2B1NvN6OWlzP%2FprI9HKFrTHzjh5KD2hajqNdJP9q3LOG%2FxP2ozTd0jacUir544hzR7O48Gj4X8AbGl57Ep5bhrHkst61joLNc4wfENmNc4UAHEePzuT6InrPOv2H1CIr5bJyuQDTaoPsT%2Bm85Kk&checksum=1842303732549e7900cea5a4491e94f95fed13cea0ac\n",
      "Price: \n",
      "\t\t\t\t\t£399\n",
      "-----------------------------------------------------------------------------------------------------------------------------\n",
      "Product name : Apple MacBook Air 13\" Core i5 1.6Ghz 4GB 128GB (March 2015) A+Grade 12 M Waranty\n",
      "https://www.ebay.co.uk/itm/Apple-MacBook-Air-13-Core-i5-1-6Ghz-4GB-128GB-March-2015-A-Grade-12-M-Waranty/274353623470?epid=214971695&hash=item3fe0c011ae:g:3BMAAOSw1wxerIGY\n",
      "Price: \n",
      "\t\t\t\t\t£399\n",
      "-----------------------------------------------------------------------------------------------------------------------------\n",
      "Product name : Apple MacBook Air i5  8GB 13\" 2015 \n",
      "https://www.ebay.co.uk/itm/Apple-MacBook-Air-i5-8GB-13-2015/264729785422?hash=item3da31ff44e:g:oMQAAOSwRUJeuWKN\n",
      "Price: \n",
      "\t\t\t\t\t£399\n",
      "-----------------------------------------------------------------------------------------------------------------------------\n",
      "Product name : Apple MacBook Air 13.3\" Intel i5 8GB 128GB Silver 2017\n",
      "https://www.ebay.co.uk/itm/Apple-MacBook-Air-13-3-Intel-i5-8GB-128GB-Silver-2017/254594285792?epid=238216545&hash=item3b470080e0:g:dF4AAOSwdNlesFNt\n",
      "Price: \n",
      "\t\t\t\t\t£399\n",
      "-----------------------------------------------------------------------------------------------------------------------------\n",
      "Product name : Apple MacBook Air 13.3\" (128 GB SSD, Intel Core i5 8th Gen., 3.60 GHz, 8GB)...\n",
      "https://www.ebay.co.uk/itm/Apple-MacBook-Air-13-3-128-GB-SSD-Intel-Core-i5-8th-Gen-3-60-GHz-8GB/233585836441?epid=8032818403&hash=item3662cd0199:g:7xkAAOSwV-JeusYr\n",
      "Price: \n",
      "\t\t\t\t\t£399\n",
      "-----------------------------------------------------------------------------------------------------------------------------\n",
      "Product name : Apple MacBook Air 13\" 2017 128GB SSD 8GB RAM\n",
      "https://www.ebay.co.uk/itm/Apple-MacBook-Air-13-2017-128GB-SSD-8GB-RAM/274365170795?hash=item3fe170446b:g:n~YAAOSwXSVevE1W\n",
      "Price: \n",
      "\t\t\t\t\t£399\n",
      "-----------------------------------------------------------------------------------------------------------------------------\n",
      "Product name : Apple MacBook Air (13-inch, Early 2015)\n",
      "https://www.ebay.co.uk/itm/Apple-MacBook-Air-13-inch-Early-2015/202989851132?hash=item2f432351fc:g:DzIAAOSwdkVeu~4n\n",
      "Price: \n",
      "\t\t\t\t\t£399\n",
      "-----------------------------------------------------------------------------------------------------------------------------\n",
      "Product name : Apple MacBook Air 13-inch i5 1.8 GHz 128gb SSD  8GB RAM - 2017 A1466\n",
      "https://www.ebay.co.uk/itm/Apple-MacBook-Air-13-inch-i5-1-8-GHz-128gb-SSD-8GB-RAM-2017-A1466/224009164157?hash=item3427fc957d:g:yVQAAOSw7pleu9yi\n",
      "Price: \n",
      "\t\t\t\t\t£399\n",
      "-----------------------------------------------------------------------------------------------------------------------------\n",
      "Product name : Apple MacBook Air \"Core i5\"- 5350U - 1.80GHz - 128GB SSD -13\" (2017*) A1466 - 31\n",
      "https://www.ebay.co.uk/itm/Apple-MacBook-Air-Core-i5-5350U-1-80GHz-128GB-SSD-13-2017-A1466-31/124163076490?hash=item1ce8b2318a:g:upMAAOSw~qVeoJkH\n",
      "Price: \n",
      "\t\t\t\t\t£399\n",
      "-----------------------------------------------------------------------------------------------------------------------------\n",
      "Product name : MacBook Air 13\" 2017 Silver - Opened but Never Used - Excellent condition\n",
      "https://www.ebay.co.uk/itm/MacBook-Air-13-2017-Silver-Opened-but-Never-Used-Excellent-condition/174282058306?hash=item2894052a42:g:vtYAAOSwgd5eg2dt\n",
      "Price: \n",
      "\t\t\t\t\t£399\n",
      "-----------------------------------------------------------------------------------------------------------------------------\n",
      "Product name : Apple MacBook Air 11\" Laptop - MJVM2B/A (March, 2015)\n",
      "https://www.ebay.co.uk/itm/Apple-MacBook-Air-11-Laptop-MJVM2B-A-March-2015/202989501896?epid=214976902&hash=item2f431dfdc8:g:PW0AAOSwC4leu4o9\n",
      "Price: \n",
      "\t\t\t\t\t£399\n",
      "-----------------------------------------------------------------------------------------------------------------------------\n",
      "Product name : Apple MacBook Air 11\" Core i5 1.3GHz 4GB 128GB 2013 Grade B\n",
      "https://www.ebay.co.uk/itm/Apple-MacBook-Air-11-Core-i5-1-3GHz-4GB-128GB-2013-Grade-B/383521968081?epid=160141272&hash=item594bb0cfd1:g:vywAAOSwpJJd4HlQ\n",
      "Price: \n",
      "\t\t\t\t\t£399\n",
      "-----------------------------------------------------------------------------------------------------------------------------\n",
      "Product name : Apple MacBook Air 13.3\" 256GB SSD Core i7 6thGen 2.2GHz 8GB (2015 Model) A Grade\n",
      "https://www.ebay.co.uk/itm/Apple-MacBook-Air-13-3-256GB-SSD-Core-i7-6thGen-2-2GHz-8GB-2015-Model-A-Grade/183506302479?hash=item2ab9d3f60f:g:vYIAAOSwLl5eIFnE\n",
      "Price: \n",
      "\t\t\t\t\t£399\n",
      "-----------------------------------------------------------------------------------------------------------------------------\n",
      "Product name : Apple MacBook Air A1466 13.3\" Laptop (2014)\n",
      "https://www.ebay.co.uk/itm/Apple-MacBook-Air-A1466-13-3-Laptop-2014/124183795416?hash=item1ce9ee56d8:g:~2MAAOSwwBReuZJn\n",
      "Price: \n",
      "\t\t\t\t\t£399\n",
      "-----------------------------------------------------------------------------------------------------------------------------\n",
      "Product name : Apple MacBook Air 13\" Core i5 1.3Ghz 4GB 128GB Flash (March2013) A Grade Waranty\n",
      "https://www.ebay.co.uk/itm/Apple-MacBook-Air-13-Core-i5-1-3Ghz-4GB-128GB-Flash-March2013-A-Grade-Waranty/183796499579?epid=160137856&hash=item2acb20047b:g:DXUAAOSw4CFYphWe\n",
      "Price: \n",
      "\t\t\t\t\t£399\n",
      "-----------------------------------------------------------------------------------------------------------------------------\n",
      "Product name : Apple MacBook Air 11.6\" Core i5 (2013) - 4GB RAM 128SSD, A GRADE\n",
      "https://www.ebay.co.uk/itm/Apple-MacBook-Air-11-6-Core-i5-2013-4GB-RAM-128SSD-A-GRADE/153827761598?hash=item23d0d95dbe:g:PCcAAOSwoDVeSVvG\n",
      "Price: \n",
      "\t\t\t\t\t£399\n",
      "-----------------------------------------------------------------------------------------------------------------------------\n",
      "Product name : MacBook Air,11-inch,1.7 GHz Intel Core i7, 128GB SSD, 8GB RAM\n",
      "https://www.ebay.co.uk/itm/MacBook-Air-11-inch-1-7-GHz-Intel-Core-i7-128GB-SSD-8GB-RAM/303565684356?hash=item46adecbe84:g:HN0AAOSwSTFeurFB\n",
      "Price: \n",
      "\t\t\t\t\t£399\n",
      "-----------------------------------------------------------------------------------------------------------------------------\n",
      "Product name : Apple MacBook Air 13 Intel Core i5 1.8GHz 4GB RAM 256GB SSD OS X Catalina\n",
      "https://www.ebay.co.uk/itm/Apple-MacBook-Air-13-Intel-Core-i5-1-8GHz-4GB-RAM-256GB-SSD-OS-X-Catalina/133400779860?epid=219670683&hash=item1f0f4e5c54:g:RqkAAOSwjdReqXYs\n",
      "Price: \n",
      "\t\t\t\t\t£399\n",
      "-----------------------------------------------------------------------------------------------------------------------------\n",
      "Product name : Apple MacBook Air 11\" Core i5 1.4GHz 4GB 128GB 2014\n",
      "https://www.ebay.co.uk/itm/Apple-MacBook-Air-11-Core-i5-1-4GHz-4GB-128GB-2014/383521971287?epid=211959603&hash=item594bb0dc57:g:J08AAOSwHt9d4HhA\n",
      "Price: \n",
      "\t\t\t\t\t£399\n",
      "-----------------------------------------------------------------------------------------------------------------------------\n",
      "Product name : Apple Macbook Air A1466 13inch Laptop - Silver\n",
      "https://www.ebay.co.uk/itm/Apple-Macbook-Air-A1466-13inch-Laptop-Silver/303562204343?hash=item46adb7a4b7:g:zE0AAOSwt4petVTK\n",
      "Price: \n",
      "\t\t\t\t\t£399\n",
      "-----------------------------------------------------------------------------------------------------------------------------\n",
      "Product name : Apple MacBook Air 13.3\" Core i5 1.8Ghz 4GB 256GB (MID 2012)\n",
      "https://www.ebay.co.uk/itm/Apple-MacBook-Air-13-3-Core-i5-1-8Ghz-4GB-256GB-MID-2012/293578046980?epid=219670683&hash=item445a9d7e04:g:B3wAAOSwIWBeuup6\n",
      "Price: \n",
      "\t\t\t\t\t£399\n",
      "-----------------------------------------------------------------------------------------------------------------------------\n",
      "Product name : Apple Macbook Air A1466 Mid 2013 Core i5 1.3GHz 4GB 128GB SSD macOS Catalina\n",
      "https://www.ebay.co.uk/itm/Apple-Macbook-Air-A1466-Mid-2013-Core-i5-1-3GHz-4GB-128GB-SSD-macOS-Catalina/133408833363?_trkparms=ispr%3D1&hash=item1f0fc93f53:g:-wMAAOSwxEheumLg&enc=AQAEAAACYIQvEcHUrT7nmUC3yY5qbPyaBN1nJEDYW8MyypsJPgXKMrJ5ZnoiL5k7zr%2FQKfBqzc1IZLXgArhCxkUiWwcpadJQ3k8bBdA0gRMt0ZWtWXeo87FVyCg9GSOYjlXysdI2rlIBcrLAlq8ep67Gu%2FJx5jtduFz%2B2gYhfhNhByicScRQ4hzzvmnVUNMeMJT6qU7Al3NGD21m3KfAoIrAMbulfTSYCSN1%2FPy52RCnsbQyDd5d%2FiCbPoooWM9HE9%2FFuyZ%2FwdsrEJ%2Fk8yD6Bs5GwCOBcIgi51lxQkhQFwYEQ0KiQSw9Ic0a4nv2CbozJdjHY79112Oj2%2B7KJ%2FuOPvARin02AsLcqqe%2BWVgrRujR%2FyOfOTgY5K88Ag4JLiiiNUqFCccEplBPJbR6hYWldZzcNG8L%2BC1LkdU4TAqISNA%2BEAUY2Yo41OjGLGWw2Wyf6ki54kCR2Li0uPX%2B1CreL9VjjWBPDhUC9%2BmKMudXTliQ3IcMwyKj7zqL5QTw5YLBJSOlL9fTkiYlDjLKIWid3H%2Bj1siMfSegj1Po5jVOfUnCH%2Fx5YXuFyQjrXVcwooFuzw8GLlIL1W94YjM6DiAlSD5Muy4yc1ydaEVmt4xRq5Op%2FBfcbDwTiMrlNaeOde5ffEg9FFCImrO%2BVIa%2BNYIzQuPT%2BZubeJNGZdyTxvUYhJ%2BFkO1R6wDCa5Fd3%2FJICoyxGW%2FCnQ3pEUV7MCvm2tKTb6DKqDIj3QOnet4fwOaKeaGomUY%2B%2BTSaDexJJ1o58LOaLPuzaPvB8LRmpP6TDEomPadMNNtqjYW94B3PEkx5LGVMItrP8PjC&checksum=1334088333639e7900cea5a4491e94f95fed13cea0ac\n",
      "Price: \n",
      "\t\t\t\t\t£399\n",
      "-----------------------------------------------------------------------------------------------------------------------------\n",
      "Product name : Apple MacBook Air 13.3\" 256GB Core i5 7th Gen 1.80GHz 8GB Silver OCT 2017\n",
      "https://www.ebay.co.uk/itm/Apple-MacBook-Air-13-3-256GB-Core-i5-7th-Gen-1-80GHz-8GB-Silver-OCT-2017/352983990891?_trkparms=ispr%3D1&hash=item522f7c426b:g:lk0AAOSwH31eQdEj&enc=AQAEAAACYIQvEcHUrT7nmUC3yY5qbPyaBN1nJEDYW8MyypsJPgXKVSUO5rLpLbvuHeymugu80phVWpCk07A2SvybMlk0iLDU4rR3%2Fm0HQKGD24kvgGQ7KAfRr72G%2BekHose%2F7Gkrv5MXKetv9qRuwdmxaipbChCWq9rwwLqs9FeUibt0mNixGIlvoIQMWLprtSL7kVMdU5OB80xfald7KOpWgOdAV3bFz9hadHo5cfzcneJ8ETXvNhKKCQuD%2FYYL0qxb7DGCUKp%2BVsIsaq9bNFuFvLul%2FEupF5tOgOMKfTtqHiEYaFU8xcuFcPc7SzAAWfpO9bnFbWqcQLzjg8zWQ06XzpARktIfbH62SQXU805x1sTFxPOoZzXLMmzhOirOqsaHF0%2Bu0d3zvSv12HXGqBSVsmaChKR%2B2v3Y86S9imEYVfqCfMtAxrHZ8VqKBuoTmvV4JOp3kACZ0iJujAZTrmduVRopASQFV1Hr77W3PFFVYXxz%2FqpMK9PxDILTaA2g3CzYw%2FmWSJdtOUfHsVtqRb1symIvelVJUjVnnXpOevfJT03HeRRHenf3d%2BCGDmUaiwZ%2FFYb4bkb0f8pnUYQ0yJKEc2evkVUiEgfhZrK%2By203pPjoflHGwPm8LM3PXEK5GUdrC2sRrhk1qtPLGwsRUnlPv%2BgGNIaMxby9nV89RgyVZqqIaCCPlL31VuYEWWiflHSZ4riC7Co7GujBgC%2BafmsQlRQ89NPPyl4z0iV5xubF2AulEy%2B9cY15r0xE4wbhRMfufpG3cchMrc3Mt9HoouwkYbTkpzYk76ua8alYGc9l0zOCBETi&checksum=3529839908919e7900cea5a4491e94f95fed13cea0ac\n",
      "Price: \n",
      "\t\t\t\t\t£399\n",
      "-----------------------------------------------------------------------------------------------------------------------------\n",
      "Product name : Apple MacBook Air 13.3\" Laptop - Mid 2012 - 120GB Storage - SEE DESCRIPTION\n",
      "https://www.ebay.co.uk/itm/Apple-MacBook-Air-13-3-Laptop-Mid-2012-120GB-Storage-SEE-DESCRIPTION/254595412029?hash=item3b4711b03d:g:HJsAAOSweiZelFYh\n",
      "Price: \n",
      "\t\t\t\t\t£399\n",
      "-----------------------------------------------------------------------------------------------------------------------------\n",
      "Product name : Apple MacBook Air 13.3\" - i5-2557M 1.7GHz, 4GB RAM, 256GB SSD (July, 2011)\n",
      "https://www.ebay.co.uk/itm/Apple-MacBook-Air-13-3-i5-2557M-1-7GHz-4GB-RAM-256GB-SSD-July-2011/193459223575?hash=item2d0b117c17:g:0D4AAOSwktpeiGJE\n",
      "Price: \n",
      "\t\t\t\t\t£399\n",
      "-----------------------------------------------------------------------------------------------------------------------------\n",
      "Product name : Macbook Air 13\" 1.7Ghz, 4GB RAM 128GB SSD - 2011\n",
      "https://www.ebay.co.uk/itm/Macbook-Air-13-1-7Ghz-4GB-RAM-128GB-SSD-2011/324164844621?hash=item4b79bafc4d:g:XYoAAOSwcH5eu8fb\n",
      "Price: \n",
      "\t\t\t\t\t£399\n",
      "-----------------------------------------------------------------------------------------------------------------------------\n",
      "Product name : Apple MacBook Air A1369 2010 13\" C2D L9400 1.86GHz 2GB 128GB GeForce 320M 10.11\n",
      "https://www.ebay.co.uk/itm/Apple-MacBook-Air-A1369-2010-13-C2D-L9400-1-86GHz-2GB-128GB-GeForce-320M-10-11/402260803481?hash=item5da89cbf99:g:FC4AAOSwmWteqY65\n",
      "Price: \n",
      "\t\t\t\t\t£399\n",
      "-----------------------------------------------------------------------------------------------------------------------------\n",
      "Product name : Apple MacBook Air A1465 11.6\" Laptop - MD711LL/A (June, 2013)\n",
      "https://www.ebay.co.uk/itm/Apple-MacBook-Air-A1465-11-6-Laptop-MD711LL-A-June-2013/324158585998?hash=item4b795b7c8e:g:EHYAAOSw8MJes~Hd\n",
      "Price: \n",
      "\t\t\t\t\t£399\n",
      "-----------------------------------------------------------------------------------------------------------------------------\n",
      "Product name : Apple MacBook Air (13\" Mid 2012, 1.8Ghz i5, 256GB SSD, 8GB Ram)\n",
      "https://www.ebay.co.uk/itm/Apple-MacBook-Air-13-Mid-2012-1-8Ghz-i5-256GB-SSD-8GB-Ram/184289686006?hash=item2ae88571f6:g:rUkAAOSw6npeuunq\n",
      "Price: \n",
      "\t\t\t\t\t£399\n",
      "-----------------------------------------------------------------------------------------------------------------------------\n",
      "Product name : Apple MacBook Air A1466 13.3\" Laptop - MD231LL/A (June, 2012) IMMACULATE!!\n",
      "https://www.ebay.co.uk/itm/Apple-MacBook-Air-A1466-13-3-Laptop-MD231LL-A-June-2012-IMMACULATE/254591425840?hash=item3b46d4dd30:g:hOEAAOSw6j9etbLh\n",
      "Price: \n",
      "\t\t\t\t\t£399\n",
      "-----------------------------------------------------------------------------------------------------------------------------\n",
      "Product name : Apple MacBook Air A1369 13.3\" Laptop 1.86GHz/2GB RAM/120GB SSD\n",
      "https://www.ebay.co.uk/itm/Apple-MacBook-Air-A1369-13-3-Laptop-1-86GHz-2GB-RAM-120GB-SSD/143599542342?hash=item216f332046:g:GTYAAOSwv89etZk5\n",
      "Price: \n",
      "\t\t\t\t\t£399\n",
      "-----------------------------------------------------------------------------------------------------------------------------\n",
      "Product name : Apple MacBook Air 13.3\" Intel i5 1.8Ghz 128GB SSD 8GB RAM macOS 1 Year Warranty\n",
      "https://www.ebay.co.uk/itm/Apple-MacBook-Air-13-3-Intel-i5-1-8Ghz-128GB-SSD-8GB-RAM-macOS-1-Year-Warranty/124169095747?epid=238216545&hash=item1ce90e0a43:g:Q70AAOSwIlBeqCp9\n",
      "Price: \n",
      "\t\t\t\t\t£399\n",
      "-----------------------------------------------------------------------------------------------------------------------------\n",
      "Product name : Apple MacBook Air 5,2/i7-3667U/8GB RAM/256GB SSD/13\"\n",
      "https://www.ebay.co.uk/itm/Apple-MacBook-Air-5-2-i7-3667U-8GB-RAM-256GB-SSD-13/383544623899?hash=item594d0a831b:g:2moAAOSwDMpevD-~\n",
      "Price: \n",
      "\t\t\t\t\t£399\n",
      "-----------------------------------------------------------------------------------------------------------------------------\n",
      "Product name : Apple MacBook Air 13.3\" (March, 2015, Silver)\n",
      "https://www.ebay.co.uk/itm/Apple-MacBook-Air-13-3-March-2015-Silver/193454638173?hash=item2d0acb845d:g:vgEAAOSwsQJes~UY\n",
      "Price: \n",
      "\t\t\t\t\t£399\n",
      "-----------------------------------------------------------------------------------------------------------------------------\n",
      "Product name : Apple MacBook Air (mid 2013) i7 1.7ghz 8gb RAM 500gb SSD\n",
      "https://www.ebay.co.uk/itm/Apple-MacBook-Air-mid-2013-i7-1-7ghz-8gb-RAM-500gb-SSD/202989729414?hash=item2f43217686:g:8BQAAOSw2y1enfxP\n",
      "Price: \n",
      "\t\t\t\t\t£399\n",
      "-----------------------------------------------------------------------------------------------------------------------------\n",
      "Product name : Apple MacBook Air 13.\" Laptop (July, 2011)\n",
      "https://www.ebay.co.uk/itm/Apple-MacBook-Air-13-Laptop-July-2011/174279415916?hash=item2893dcd86c:g:k7QAAOSwKgZeuR5W\n",
      "Price: \n",
      "\t\t\t\t\t£399\n",
      "-----------------------------------------------------------------------------------------------------------------------------\n",
      "Product name : Apple MacBook Air 11.6\" Laptop (March, 2015, Silver) - IN PERFECT CONDITION\n",
      "https://www.ebay.co.uk/itm/Apple-MacBook-Air-11-6-Laptop-March-2015-Silver-IN-PERFECT-CONDITION/233583701836?hash=item3662ac6f4c:g:9SQAAOSwCUdeuHQL\n",
      "Price: \n",
      "\t\t\t\t\t£399\n",
      "-----------------------------------------------------------------------------------------------------------------------------\n",
      "Product name : MacBook Air 13.3\" 2017 1.8GHz Core i5 8GB RAM 128 GB SSD Excellent Condition\n",
      "https://www.ebay.co.uk/itm/MacBook-Air-13-3-2017-1-8GHz-Core-i5-8GB-RAM-128-GB-SSD-Excellent-Condition/264729445338?hash=item3da31ac3da:g:b0cAAOSwih9eur0t\n",
      "Price: \n",
      "\t\t\t\t\t£399\n",
      "-----------------------------------------------------------------------------------------------------------------------------\n",
      "Product name : Apple MacBook Air 13.3\" (2013, i7, 8gb RAM, 256 gb SSD)\n",
      "https://www.ebay.co.uk/itm/Apple-MacBook-Air-13-3-2013-i7-8gb-RAM-256-gb-SSD/114219334141?hash=item1a9800b9fd:g:DGMAAOSwNoBeuD9S\n",
      "Price: \n",
      "\t\t\t\t\t£399\n",
      "-----------------------------------------------------------------------------------------------------------------------------\n",
      "Product name : Apple MacBook Air A1466 13 2015 Intel Core i5 5th Gen 1.60 GHz 128GB SSD 8GB RAM\n",
      "https://www.ebay.co.uk/itm/Apple-MacBook-Air-A1466-13-2015-Intel-Core-i5-5th-Gen-1-60-GHz-128GB-SSD-8GB-RAM/402251111728?hash=item5da808dd30:g:6zcAAOSwiuVeq8v~\n",
      "Price: \n",
      "\t\t\t\t\t£399\n",
      "-----------------------------------------------------------------------------------------------------------------------------\n",
      "Product name : 2017 Apple 13\" MacBook Air 128gb SSD 8gb RAM i5 Dual Core\n",
      "https://www.ebay.co.uk/itm/2017-Apple-13-MacBook-Air-128gb-SSD-8gb-RAM-i5-Dual-Core/153926488610?hash=item23d6bbd222:g:cvQAAOSwIf9et~32\n",
      "Price: \n",
      "\t\t\t\t\t£399\n",
      "-----------------------------------------------------------------------------------------------------------------------------\n",
      "Product name : 2020 Apple MacBook Air 13.3\" Retina Display Intel Core i3 8GB 256GB Gold | UK\n",
      "https://www.ebay.co.uk/itm/2020-Apple-MacBook-Air-13-3-Retina-Display-Intel-Core-i3-8GB-256GB-Gold-UK/224002049501?hash=item34279005dd:g:3u8AAOSwJ65es9ZI\n",
      "Price: \n",
      "\t\t\t\t\t£399\n",
      "-----------------------------------------------------------------------------------------------------------------------------\n",
      "Product name : 13-inch Apple MacBook Air 2.2GHz i7 8GB RAM 128GB SSD A1466 Early 2015 12843\n",
      "https://www.ebay.co.uk/itm/13-inch-Apple-MacBook-Air-2-2GHz-i7-8GB-RAM-128GB-SSD-A1466-Early-2015-12843/303560589136?hash=item46ad9eff50:g:N6sAAOSwMKFessIx\n",
      "Price: \n",
      "\t\t\t\t\t£399\n",
      "-----------------------------------------------------------------------------------------------------------------------------\n",
      "Product name : apple MacBook Air 13”\n",
      "https://www.ebay.co.uk/itm/apple-MacBook-Air-13/324160835127?hash=item4b797dce37:g:XiAAAOSwZ91etnY5\n",
      "Price: \n",
      "\t\t\t\t\t£399\n",
      "-----------------------------------------------------------------------------------------------------------------------------\n",
      "Product name : Apple MacBook Air 13.3\"  - 2GB RAM / 64SSD  + 12 Months Warranty\n",
      "https://www.ebay.co.uk/itm/Apple-MacBook-Air-13-3-2GB-RAM-64SSD-12-Months-Warranty/323896683862?_trkparms=ispr%3D1&hash=item4b69bf2d56:g:RAwAAOSwdklbhr-j&enc=AQAEAAACYIQvEcHUrT7nmUC3yY5qbPyaBN1nJEDYW8MyypsJPgXKtMiVu7s8Kj2Ur48i56lddxqLiP9CxE%2FbQq33%2BjkgeEeJPkQ35%2BkiGFHDlvwGH4E6xCiQjwF7WnN5loUn5ndhDfJxM1AKCSOYbdmPUc4d57lqCWAaaKyPNmAPTlOXdigy2XibjZ1isPyHnKyA7v78w3e6hI3H5aRkikxzg%2FPQrXc1z46ZP2qhXTqxlOtOD%2B1cTwXs8JuTx%2BougRMZOrP%2Fg5%2BjyTD5c7OguwVejDBx0Y51AhvEMuqSDnxAqQPKMs6C9Z5VgxYvKS24ZM%2F0uXQHRMBalOS5VcPw20LskGAtJz0RioD0nRDZqQLBSPEZYXWAapev4Sf0fJ%2FWEqaTQJ7wiU6LxAmJVMyliLcEGYsOk%2BnPQkGc%2BfgoRkwWtLgJEg6mk0EBxeCyHKOSDbXvpDO1TWOwmHrFlRciBfKr3qxrNmoDFyH5VzgXq9h2Iw5tn%2F92H2wjscRCB26oulebE8xyJECh4uPP32NFDKyG7N%2Fa3YjNx2SAIpIkNiZDZYdRTJX%2Fe5%2Bo12mMnj6HtoeSruL%2F%2F44i8JFxJmaneQMSl%2BGNvLYzV4VXWAYHSZ4%2BO0237g8jJkqzqj4%2BeVmYbNw9RDO7V%2FD5y1I7IAIeWBdia2SrdlaqRlf%2Biye4p7G%2B8BMp0oah1HvSzwVRInh680V7ZnARaQuEO2s0jn3e2Wcq%2Fl5jBJp9SVLx8XSU1NCorgeChi1QM3rrmNaIQxcpWYsAOoMUC1LjSWL6WqFh6X4PFXEOyL0OruJppOPsrhSXc2l10WPA&checksum=3238966838629e7900cea5a4491e94f95fed13cea0ac\n",
      "Price: \n",
      "\t\t\t\t\t£399\n",
      "-----------------------------------------------------------------------------------------------------------------------------\n",
      "Product name : Apple MacBook Air 11\" Core 2 Duo  2GB 64GB 2010 Grade B\n",
      "https://www.ebay.co.uk/itm/Apple-MacBook-Air-11-Core-2-Duo-2GB-64GB-2010-Grade-B/383542158580?epid=94147055&_trkparms=ispr%3D1&hash=item594ce4e4f4:g:Y3gAAAzykWJSrhoH&enc=AQAEAAACYIQvEcHUrT7nmUC3yY5qbPyaBN1nJEDYW8MyypsJPgXKpYSzz9%2FsG0TJDO4uQ4aUXPzqx91FeSjX5vKPFA2npdG50JR%2FIGV9ueHzW9%2BZQEkh2Wd7TpTh79pkPBTFwWo%2FohlGYrKm3lPIF4Pi4c%2Frx72F1vhdmum4VzaROuJaeKWwtygW6ZcrGd0JHcZKwnf9P2USe201Tty8K1%2FARvwVKVlQoXicS7um7LHoDJlZoZYoDNh2o02JaXdhnWym0brmCgLyqAvixQyykBtfaQpEWQ2eC2pTa6UHkZH5XjVPjnpUrbEqzXzq1rXL%2FQRHQ7dfChSV74vuw8olbzZZ0Z9i0BFsn%2Bqzju6l3rSmdwVjp6CK%2FYIN70PGjx9n4GUGPBJaMXuCq%2Fc6CgAGbm6soC2pZZD35Zw0FbgZPyv9G8wsLmlXKV8VmN1vp5ZYx%2Bd6bwf61m2N8eNqbyZBQjC2suOu3VnaHbnfGxEHEwmRVl0uz5IMvuMyIZCcS8SgbEB6WLPUA3lWIJTbq%2Fmc%2F98Fwiwm087iKtG4If6WXw%2B6qxa4Pgkp68T9xB42LRPCH3Uj2GyLoPcbuXz%2BSTGJF7b7%2FjfRihJ65Cqj6h42n5WW35h4j5G0%2FQhmczCKseZGi%2B6mVQsiPM8OqweWlmEq%2Fsrb2hSiqBSGMcy5bpgJVL8dZQhlMJ3AAwqUsmwU4biQuk2svoGvRFUug49VVKk6p6OOzbOJyziWiALI6Ig2%2Ba%2F8KH4FeloV%2Fa46v74eNz1y2F9L%2Bbjc3DOTTyBcnP6bj5TLZBDK0eB2bJ2AjJK56posqfmYOGcR&checksum=3835421585809e7900cea5a4491e94f95fed13cea0ac\n",
      "Price: \n",
      "\t\t\t\t\t£399\n",
      "-----------------------------------------------------------------------------------------------------------------------------\n"
     ]
    }
   ],
   "source": [
    "#since there are two sets of items we want to iterate, I put both on top and separate it by \"or\"\n",
    "for item in soup.find_all('h3', class_='lvtitle') or itemprice in soup.find_all('li', class_='lvprice prc'):\n",
    "    \n",
    "    title = item.a['title'][26:]\n",
    "    print('Product name : ' +title)\n",
    "    link = item.a['href']\n",
    "    print(link)\n",
    "\n",
    "    price = itemprice.find('span', class_='bold').text[:-3]\n",
    "    print('Price: ' + price)\n",
    "    print('-'*125)"
   ]
  },
  {
   "cell_type": "markdown",
   "metadata": {},
   "source": [
    "And that's the final product. I could have put the price in a DataFrame, however I notice that sometimes the price is not in the same format and therefore it is tricky to display them in a table neatly."
   ]
  }
 ],
 "metadata": {
  "kernelspec": {
   "display_name": "Python 3",
   "language": "python",
   "name": "python3"
  },
  "language_info": {
   "codemirror_mode": {
    "name": "ipython",
    "version": 3
   },
   "file_extension": ".py",
   "mimetype": "text/x-python",
   "name": "python",
   "nbconvert_exporter": "python",
   "pygments_lexer": "ipython3",
   "version": "3.8.2"
  }
 },
 "nbformat": 4,
 "nbformat_minor": 4
}
